{
 "cells": [
  {
   "cell_type": "markdown",
   "id": "84ad6648-d122-439a-acc3-f253251a2dcd",
   "metadata": {},
   "source": [
    "# FLO RFM\n",
    "## Task 1 - Understanding and Preparing Data"
   ]
  },
  {
   "cell_type": "markdown",
   "id": "2124ff35-a3e8-4da8-b987-80fcbd37b35a",
   "metadata": {},
   "source": [
    "# Read the flo_data_20K.csv data. Make a copy of the dataframe."
   ]
  },
  {
   "cell_type": "code",
   "execution_count": 1,
   "id": "0fee80be-f750-4286-b79b-14abfd7fecc9",
   "metadata": {},
   "outputs": [],
   "source": [
    "import pandas as pd\n",
    "import datetime as dt"
   ]
  },
  {
   "cell_type": "code",
   "execution_count": 2,
   "id": "1dc5b553-a948-4733-923d-017a0caca45d",
   "metadata": {},
   "outputs": [],
   "source": [
    "pd.set_option('display.max_columns', None)\n",
    "# pd.set_option('display.max_rows', None)\n",
    "pd.set_option('display.float_format', lambda x: '%.3f' % x)"
   ]
  },
  {
   "cell_type": "code",
   "execution_count": 3,
   "id": "2b815e52-8422-4eb0-a374-ba2ae2425ee8",
   "metadata": {},
   "outputs": [],
   "source": [
    "df_ = pd.read_csv(\"flo_data_20k.csv\")"
   ]
  },
  {
   "cell_type": "code",
   "execution_count": 4,
   "id": "a301b4ee-4b44-48d3-a1c4-f9c3a12bc814",
   "metadata": {},
   "outputs": [],
   "source": [
    "df = df_.copy()"
   ]
  },
  {
   "cell_type": "code",
   "execution_count": 5,
   "id": "f30b5402-f296-4e1d-a499-46a992e51703",
   "metadata": {},
   "outputs": [
    {
     "data": {
      "text/html": [
       "<div>\n",
       "<style scoped>\n",
       "    .dataframe tbody tr th:only-of-type {\n",
       "        vertical-align: middle;\n",
       "    }\n",
       "\n",
       "    .dataframe tbody tr th {\n",
       "        vertical-align: top;\n",
       "    }\n",
       "\n",
       "    .dataframe thead th {\n",
       "        text-align: right;\n",
       "    }\n",
       "</style>\n",
       "<table border=\"1\" class=\"dataframe\">\n",
       "  <thead>\n",
       "    <tr style=\"text-align: right;\">\n",
       "      <th></th>\n",
       "      <th>master_id</th>\n",
       "      <th>order_channel</th>\n",
       "      <th>last_order_channel</th>\n",
       "      <th>first_order_date</th>\n",
       "      <th>last_order_date</th>\n",
       "      <th>last_order_date_online</th>\n",
       "      <th>last_order_date_offline</th>\n",
       "      <th>order_num_total_ever_online</th>\n",
       "      <th>order_num_total_ever_offline</th>\n",
       "      <th>customer_value_total_ever_offline</th>\n",
       "      <th>customer_value_total_ever_online</th>\n",
       "      <th>interested_in_categories_12</th>\n",
       "    </tr>\n",
       "  </thead>\n",
       "  <tbody>\n",
       "    <tr>\n",
       "      <th>0</th>\n",
       "      <td>cc294636-19f0-11eb-8d74-000d3a38a36f</td>\n",
       "      <td>Android App</td>\n",
       "      <td>Offline</td>\n",
       "      <td>2020-10-30</td>\n",
       "      <td>2021-02-26</td>\n",
       "      <td>2021-02-21</td>\n",
       "      <td>2021-02-26</td>\n",
       "      <td>4.000</td>\n",
       "      <td>1.000</td>\n",
       "      <td>139.990</td>\n",
       "      <td>799.380</td>\n",
       "      <td>[KADIN]</td>\n",
       "    </tr>\n",
       "    <tr>\n",
       "      <th>1</th>\n",
       "      <td>f431bd5a-ab7b-11e9-a2fc-000d3a38a36f</td>\n",
       "      <td>Android App</td>\n",
       "      <td>Mobile</td>\n",
       "      <td>2017-02-08</td>\n",
       "      <td>2021-02-16</td>\n",
       "      <td>2021-02-16</td>\n",
       "      <td>2020-01-10</td>\n",
       "      <td>19.000</td>\n",
       "      <td>2.000</td>\n",
       "      <td>159.970</td>\n",
       "      <td>1853.580</td>\n",
       "      <td>[ERKEK, COCUK, KADIN, AKTIFSPOR]</td>\n",
       "    </tr>\n",
       "    <tr>\n",
       "      <th>2</th>\n",
       "      <td>69b69676-1a40-11ea-941b-000d3a38a36f</td>\n",
       "      <td>Android App</td>\n",
       "      <td>Android App</td>\n",
       "      <td>2019-11-27</td>\n",
       "      <td>2020-11-27</td>\n",
       "      <td>2020-11-27</td>\n",
       "      <td>2019-12-01</td>\n",
       "      <td>3.000</td>\n",
       "      <td>2.000</td>\n",
       "      <td>189.970</td>\n",
       "      <td>395.350</td>\n",
       "      <td>[ERKEK, KADIN]</td>\n",
       "    </tr>\n",
       "    <tr>\n",
       "      <th>3</th>\n",
       "      <td>1854e56c-491f-11eb-806e-000d3a38a36f</td>\n",
       "      <td>Android App</td>\n",
       "      <td>Android App</td>\n",
       "      <td>2021-01-06</td>\n",
       "      <td>2021-01-17</td>\n",
       "      <td>2021-01-17</td>\n",
       "      <td>2021-01-06</td>\n",
       "      <td>1.000</td>\n",
       "      <td>1.000</td>\n",
       "      <td>39.990</td>\n",
       "      <td>81.980</td>\n",
       "      <td>[AKTIFCOCUK, COCUK]</td>\n",
       "    </tr>\n",
       "    <tr>\n",
       "      <th>4</th>\n",
       "      <td>d6ea1074-f1f5-11e9-9346-000d3a38a36f</td>\n",
       "      <td>Desktop</td>\n",
       "      <td>Desktop</td>\n",
       "      <td>2019-08-03</td>\n",
       "      <td>2021-03-07</td>\n",
       "      <td>2021-03-07</td>\n",
       "      <td>2019-08-03</td>\n",
       "      <td>1.000</td>\n",
       "      <td>1.000</td>\n",
       "      <td>49.990</td>\n",
       "      <td>159.990</td>\n",
       "      <td>[AKTIFSPOR]</td>\n",
       "    </tr>\n",
       "    <tr>\n",
       "      <th>5</th>\n",
       "      <td>e585280e-aae1-11e9-a2fc-000d3a38a36f</td>\n",
       "      <td>Desktop</td>\n",
       "      <td>Offline</td>\n",
       "      <td>2018-11-18</td>\n",
       "      <td>2021-03-13</td>\n",
       "      <td>2018-11-18</td>\n",
       "      <td>2021-03-13</td>\n",
       "      <td>1.000</td>\n",
       "      <td>2.000</td>\n",
       "      <td>150.870</td>\n",
       "      <td>49.990</td>\n",
       "      <td>[KADIN]</td>\n",
       "    </tr>\n",
       "    <tr>\n",
       "      <th>6</th>\n",
       "      <td>c445e4ee-6242-11ea-9d1a-000d3a38a36f</td>\n",
       "      <td>Android App</td>\n",
       "      <td>Android App</td>\n",
       "      <td>2020-03-04</td>\n",
       "      <td>2020-10-18</td>\n",
       "      <td>2020-10-18</td>\n",
       "      <td>2020-03-04</td>\n",
       "      <td>3.000</td>\n",
       "      <td>1.000</td>\n",
       "      <td>59.990</td>\n",
       "      <td>315.940</td>\n",
       "      <td>[AKTIFSPOR]</td>\n",
       "    </tr>\n",
       "    <tr>\n",
       "      <th>7</th>\n",
       "      <td>3f1b4dc8-8a7d-11ea-8ec0-000d3a38a36f</td>\n",
       "      <td>Mobile</td>\n",
       "      <td>Offline</td>\n",
       "      <td>2020-05-15</td>\n",
       "      <td>2020-08-12</td>\n",
       "      <td>2020-05-15</td>\n",
       "      <td>2020-08-12</td>\n",
       "      <td>1.000</td>\n",
       "      <td>1.000</td>\n",
       "      <td>49.990</td>\n",
       "      <td>113.640</td>\n",
       "      <td>[COCUK]</td>\n",
       "    </tr>\n",
       "    <tr>\n",
       "      <th>8</th>\n",
       "      <td>cfbda69e-5b4f-11ea-aca7-000d3a38a36f</td>\n",
       "      <td>Android App</td>\n",
       "      <td>Android App</td>\n",
       "      <td>2020-01-23</td>\n",
       "      <td>2021-03-07</td>\n",
       "      <td>2021-03-07</td>\n",
       "      <td>2020-01-25</td>\n",
       "      <td>3.000</td>\n",
       "      <td>2.000</td>\n",
       "      <td>120.480</td>\n",
       "      <td>934.210</td>\n",
       "      <td>[ERKEK, COCUK, KADIN]</td>\n",
       "    </tr>\n",
       "    <tr>\n",
       "      <th>9</th>\n",
       "      <td>1143f032-440d-11ea-8b43-000d3a38a36f</td>\n",
       "      <td>Mobile</td>\n",
       "      <td>Mobile</td>\n",
       "      <td>2019-07-30</td>\n",
       "      <td>2020-10-04</td>\n",
       "      <td>2020-10-04</td>\n",
       "      <td>2019-07-30</td>\n",
       "      <td>1.000</td>\n",
       "      <td>1.000</td>\n",
       "      <td>69.980</td>\n",
       "      <td>95.980</td>\n",
       "      <td>[KADIN, AKTIFSPOR]</td>\n",
       "    </tr>\n",
       "  </tbody>\n",
       "</table>\n",
       "</div>"
      ],
      "text/plain": [
       "                              master_id order_channel last_order_channel  \\\n",
       "0  cc294636-19f0-11eb-8d74-000d3a38a36f   Android App            Offline   \n",
       "1  f431bd5a-ab7b-11e9-a2fc-000d3a38a36f   Android App             Mobile   \n",
       "2  69b69676-1a40-11ea-941b-000d3a38a36f   Android App        Android App   \n",
       "3  1854e56c-491f-11eb-806e-000d3a38a36f   Android App        Android App   \n",
       "4  d6ea1074-f1f5-11e9-9346-000d3a38a36f       Desktop            Desktop   \n",
       "5  e585280e-aae1-11e9-a2fc-000d3a38a36f       Desktop            Offline   \n",
       "6  c445e4ee-6242-11ea-9d1a-000d3a38a36f   Android App        Android App   \n",
       "7  3f1b4dc8-8a7d-11ea-8ec0-000d3a38a36f        Mobile            Offline   \n",
       "8  cfbda69e-5b4f-11ea-aca7-000d3a38a36f   Android App        Android App   \n",
       "9  1143f032-440d-11ea-8b43-000d3a38a36f        Mobile             Mobile   \n",
       "\n",
       "  first_order_date last_order_date last_order_date_online  \\\n",
       "0       2020-10-30      2021-02-26             2021-02-21   \n",
       "1       2017-02-08      2021-02-16             2021-02-16   \n",
       "2       2019-11-27      2020-11-27             2020-11-27   \n",
       "3       2021-01-06      2021-01-17             2021-01-17   \n",
       "4       2019-08-03      2021-03-07             2021-03-07   \n",
       "5       2018-11-18      2021-03-13             2018-11-18   \n",
       "6       2020-03-04      2020-10-18             2020-10-18   \n",
       "7       2020-05-15      2020-08-12             2020-05-15   \n",
       "8       2020-01-23      2021-03-07             2021-03-07   \n",
       "9       2019-07-30      2020-10-04             2020-10-04   \n",
       "\n",
       "  last_order_date_offline  order_num_total_ever_online  \\\n",
       "0              2021-02-26                        4.000   \n",
       "1              2020-01-10                       19.000   \n",
       "2              2019-12-01                        3.000   \n",
       "3              2021-01-06                        1.000   \n",
       "4              2019-08-03                        1.000   \n",
       "5              2021-03-13                        1.000   \n",
       "6              2020-03-04                        3.000   \n",
       "7              2020-08-12                        1.000   \n",
       "8              2020-01-25                        3.000   \n",
       "9              2019-07-30                        1.000   \n",
       "\n",
       "   order_num_total_ever_offline  customer_value_total_ever_offline  \\\n",
       "0                         1.000                            139.990   \n",
       "1                         2.000                            159.970   \n",
       "2                         2.000                            189.970   \n",
       "3                         1.000                             39.990   \n",
       "4                         1.000                             49.990   \n",
       "5                         2.000                            150.870   \n",
       "6                         1.000                             59.990   \n",
       "7                         1.000                             49.990   \n",
       "8                         2.000                            120.480   \n",
       "9                         1.000                             69.980   \n",
       "\n",
       "   customer_value_total_ever_online       interested_in_categories_12  \n",
       "0                           799.380                           [KADIN]  \n",
       "1                          1853.580  [ERKEK, COCUK, KADIN, AKTIFSPOR]  \n",
       "2                           395.350                    [ERKEK, KADIN]  \n",
       "3                            81.980               [AKTIFCOCUK, COCUK]  \n",
       "4                           159.990                       [AKTIFSPOR]  \n",
       "5                            49.990                           [KADIN]  \n",
       "6                           315.940                       [AKTIFSPOR]  \n",
       "7                           113.640                           [COCUK]  \n",
       "8                           934.210             [ERKEK, COCUK, KADIN]  \n",
       "9                            95.980                [KADIN, AKTIFSPOR]  "
      ]
     },
     "execution_count": 5,
     "metadata": {},
     "output_type": "execute_result"
    }
   ],
   "source": [
    "df.head(10)"
   ]
  },
  {
   "cell_type": "code",
   "execution_count": 6,
   "id": "f34cd208-2d19-4df4-99c6-b27d57486500",
   "metadata": {},
   "outputs": [
    {
     "data": {
      "text/plain": [
       "(19945, 12)"
      ]
     },
     "execution_count": 6,
     "metadata": {},
     "output_type": "execute_result"
    }
   ],
   "source": [
    "df.shape"
   ]
  },
  {
   "cell_type": "code",
   "execution_count": 7,
   "id": "cf546ee6-df45-439f-b054-ba74091fa171",
   "metadata": {},
   "outputs": [
    {
     "data": {
      "text/plain": [
       "Index(['master_id', 'order_channel', 'last_order_channel', 'first_order_date',\n",
       "       'last_order_date', 'last_order_date_online', 'last_order_date_offline',\n",
       "       'order_num_total_ever_online', 'order_num_total_ever_offline',\n",
       "       'customer_value_total_ever_offline', 'customer_value_total_ever_online',\n",
       "       'interested_in_categories_12'],\n",
       "      dtype='object')"
      ]
     },
     "execution_count": 7,
     "metadata": {},
     "output_type": "execute_result"
    }
   ],
   "source": [
    "df.columns"
   ]
  },
  {
   "cell_type": "code",
   "execution_count": 8,
   "id": "25162216-a8b9-4597-aa18-ca28121a5ef1",
   "metadata": {},
   "outputs": [
    {
     "data": {
      "text/html": [
       "<div>\n",
       "<style scoped>\n",
       "    .dataframe tbody tr th:only-of-type {\n",
       "        vertical-align: middle;\n",
       "    }\n",
       "\n",
       "    .dataframe tbody tr th {\n",
       "        vertical-align: top;\n",
       "    }\n",
       "\n",
       "    .dataframe thead th {\n",
       "        text-align: right;\n",
       "    }\n",
       "</style>\n",
       "<table border=\"1\" class=\"dataframe\">\n",
       "  <thead>\n",
       "    <tr style=\"text-align: right;\">\n",
       "      <th></th>\n",
       "      <th>count</th>\n",
       "      <th>mean</th>\n",
       "      <th>std</th>\n",
       "      <th>min</th>\n",
       "      <th>25%</th>\n",
       "      <th>50%</th>\n",
       "      <th>75%</th>\n",
       "      <th>max</th>\n",
       "    </tr>\n",
       "  </thead>\n",
       "  <tbody>\n",
       "    <tr>\n",
       "      <th>order_num_total_ever_online</th>\n",
       "      <td>19945.000</td>\n",
       "      <td>3.111</td>\n",
       "      <td>4.226</td>\n",
       "      <td>1.000</td>\n",
       "      <td>1.000</td>\n",
       "      <td>2.000</td>\n",
       "      <td>4.000</td>\n",
       "      <td>200.000</td>\n",
       "    </tr>\n",
       "    <tr>\n",
       "      <th>order_num_total_ever_offline</th>\n",
       "      <td>19945.000</td>\n",
       "      <td>1.914</td>\n",
       "      <td>2.063</td>\n",
       "      <td>1.000</td>\n",
       "      <td>1.000</td>\n",
       "      <td>1.000</td>\n",
       "      <td>2.000</td>\n",
       "      <td>109.000</td>\n",
       "    </tr>\n",
       "    <tr>\n",
       "      <th>customer_value_total_ever_offline</th>\n",
       "      <td>19945.000</td>\n",
       "      <td>253.923</td>\n",
       "      <td>301.533</td>\n",
       "      <td>10.000</td>\n",
       "      <td>99.990</td>\n",
       "      <td>179.980</td>\n",
       "      <td>319.970</td>\n",
       "      <td>18119.140</td>\n",
       "    </tr>\n",
       "    <tr>\n",
       "      <th>customer_value_total_ever_online</th>\n",
       "      <td>19945.000</td>\n",
       "      <td>497.322</td>\n",
       "      <td>832.602</td>\n",
       "      <td>12.990</td>\n",
       "      <td>149.980</td>\n",
       "      <td>286.460</td>\n",
       "      <td>578.440</td>\n",
       "      <td>45220.130</td>\n",
       "    </tr>\n",
       "  </tbody>\n",
       "</table>\n",
       "</div>"
      ],
      "text/plain": [
       "                                      count    mean     std    min     25%  \\\n",
       "order_num_total_ever_online       19945.000   3.111   4.226  1.000   1.000   \n",
       "order_num_total_ever_offline      19945.000   1.914   2.063  1.000   1.000   \n",
       "customer_value_total_ever_offline 19945.000 253.923 301.533 10.000  99.990   \n",
       "customer_value_total_ever_online  19945.000 497.322 832.602 12.990 149.980   \n",
       "\n",
       "                                      50%     75%       max  \n",
       "order_num_total_ever_online         2.000   4.000   200.000  \n",
       "order_num_total_ever_offline        1.000   2.000   109.000  \n",
       "customer_value_total_ever_offline 179.980 319.970 18119.140  \n",
       "customer_value_total_ever_online  286.460 578.440 45220.130  "
      ]
     },
     "execution_count": 8,
     "metadata": {},
     "output_type": "execute_result"
    }
   ],
   "source": [
    "df.describe().T"
   ]
  },
  {
   "cell_type": "code",
   "execution_count": 9,
   "id": "1901a69d-7aa7-4c75-9e0f-9e1161548717",
   "metadata": {},
   "outputs": [
    {
     "data": {
      "text/plain": [
       "master_id                            0\n",
       "order_channel                        0\n",
       "last_order_channel                   0\n",
       "first_order_date                     0\n",
       "last_order_date                      0\n",
       "last_order_date_online               0\n",
       "last_order_date_offline              0\n",
       "order_num_total_ever_online          0\n",
       "order_num_total_ever_offline         0\n",
       "customer_value_total_ever_offline    0\n",
       "customer_value_total_ever_online     0\n",
       "interested_in_categories_12          0\n",
       "dtype: int64"
      ]
     },
     "execution_count": 9,
     "metadata": {},
     "output_type": "execute_result"
    }
   ],
   "source": [
    "df.isnull().sum()"
   ]
  },
  {
   "cell_type": "code",
   "execution_count": 10,
   "id": "d3534c0e-515a-4d66-b7d6-7f5236d71024",
   "metadata": {},
   "outputs": [
    {
     "data": {
      "text/plain": [
       "master_id                             object\n",
       "order_channel                         object\n",
       "last_order_channel                    object\n",
       "first_order_date                      object\n",
       "last_order_date                       object\n",
       "last_order_date_online                object\n",
       "last_order_date_offline               object\n",
       "order_num_total_ever_online          float64\n",
       "order_num_total_ever_offline         float64\n",
       "customer_value_total_ever_offline    float64\n",
       "customer_value_total_ever_online     float64\n",
       "interested_in_categories_12           object\n",
       "dtype: object"
      ]
     },
     "execution_count": 10,
     "metadata": {},
     "output_type": "execute_result"
    }
   ],
   "source": [
    "df.dtypes"
   ]
  },
  {
   "cell_type": "code",
   "execution_count": 11,
   "id": "6683412c-3340-4add-a361-7042a240cda5",
   "metadata": {},
   "outputs": [
    {
     "name": "stdout",
     "output_type": "stream",
     "text": [
      "##################### Shape #####################\n",
      "(19945, 12)\n",
      "##################### Types #####################\n",
      "master_id                             object\n",
      "order_channel                         object\n",
      "last_order_channel                    object\n",
      "first_order_date                      object\n",
      "last_order_date                       object\n",
      "last_order_date_online                object\n",
      "last_order_date_offline               object\n",
      "order_num_total_ever_online          float64\n",
      "order_num_total_ever_offline         float64\n",
      "customer_value_total_ever_offline    float64\n",
      "customer_value_total_ever_online     float64\n",
      "interested_in_categories_12           object\n",
      "dtype: object\n",
      "##################### Head #####################\n",
      "                              master_id order_channel last_order_channel  \\\n",
      "0  cc294636-19f0-11eb-8d74-000d3a38a36f   Android App            Offline   \n",
      "1  f431bd5a-ab7b-11e9-a2fc-000d3a38a36f   Android App             Mobile   \n",
      "2  69b69676-1a40-11ea-941b-000d3a38a36f   Android App        Android App   \n",
      "3  1854e56c-491f-11eb-806e-000d3a38a36f   Android App        Android App   \n",
      "4  d6ea1074-f1f5-11e9-9346-000d3a38a36f       Desktop            Desktop   \n",
      "\n",
      "  first_order_date last_order_date last_order_date_online  \\\n",
      "0       2020-10-30      2021-02-26             2021-02-21   \n",
      "1       2017-02-08      2021-02-16             2021-02-16   \n",
      "2       2019-11-27      2020-11-27             2020-11-27   \n",
      "3       2021-01-06      2021-01-17             2021-01-17   \n",
      "4       2019-08-03      2021-03-07             2021-03-07   \n",
      "\n",
      "  last_order_date_offline  order_num_total_ever_online  \\\n",
      "0              2021-02-26                        4.000   \n",
      "1              2020-01-10                       19.000   \n",
      "2              2019-12-01                        3.000   \n",
      "3              2021-01-06                        1.000   \n",
      "4              2019-08-03                        1.000   \n",
      "\n",
      "   order_num_total_ever_offline  customer_value_total_ever_offline  \\\n",
      "0                         1.000                            139.990   \n",
      "1                         2.000                            159.970   \n",
      "2                         2.000                            189.970   \n",
      "3                         1.000                             39.990   \n",
      "4                         1.000                             49.990   \n",
      "\n",
      "   customer_value_total_ever_online       interested_in_categories_12  \n",
      "0                           799.380                           [KADIN]  \n",
      "1                          1853.580  [ERKEK, COCUK, KADIN, AKTIFSPOR]  \n",
      "2                           395.350                    [ERKEK, KADIN]  \n",
      "3                            81.980               [AKTIFCOCUK, COCUK]  \n",
      "4                           159.990                       [AKTIFSPOR]  \n",
      "##################### Tail #####################\n",
      "                                  master_id order_channel last_order_channel  \\\n",
      "19940  727e2b6e-ddd4-11e9-a848-000d3a38a36f   Android App            Offline   \n",
      "19941  25cd53d4-61bf-11ea-8dd8-000d3a38a36f       Desktop            Desktop   \n",
      "19942  8aea4c2a-d6fc-11e9-93bc-000d3a38a36f       Ios App            Ios App   \n",
      "19943  e50bb46c-ff30-11e9-a5e8-000d3a38a36f   Android App        Android App   \n",
      "19944  740998d2-b1f7-11e9-89fa-000d3a38a36f   Android App        Android App   \n",
      "\n",
      "      first_order_date last_order_date last_order_date_online  \\\n",
      "19940       2019-09-21      2020-07-05             2020-06-05   \n",
      "19941       2020-03-01      2020-12-22             2020-12-22   \n",
      "19942       2019-09-11      2021-05-24             2021-05-24   \n",
      "19943       2019-03-27      2021-02-13             2021-02-13   \n",
      "19944       2019-09-03      2020-06-06             2020-06-06   \n",
      "\n",
      "      last_order_date_offline  order_num_total_ever_online  \\\n",
      "19940              2020-07-05                        1.000   \n",
      "19941              2020-03-01                        1.000   \n",
      "19942              2019-09-11                        2.000   \n",
      "19943              2021-01-08                        1.000   \n",
      "19944              2019-09-03                        1.000   \n",
      "\n",
      "       order_num_total_ever_offline  customer_value_total_ever_offline  \\\n",
      "19940                         2.000                            289.980   \n",
      "19941                         1.000                            150.480   \n",
      "19942                         1.000                            139.980   \n",
      "19943                         5.000                            711.790   \n",
      "19944                         1.000                             39.990   \n",
      "\n",
      "       customer_value_total_ever_online interested_in_categories_12  \n",
      "19940                           111.980          [ERKEK, AKTIFSPOR]  \n",
      "19941                           239.990                 [AKTIFSPOR]  \n",
      "19942                           492.960                 [AKTIFSPOR]  \n",
      "19943                           297.980          [ERKEK, AKTIFSPOR]  \n",
      "19944                           221.980          [KADIN, AKTIFSPOR]  \n",
      "##################### is null? #####################\n",
      "master_id                            0\n",
      "order_channel                        0\n",
      "last_order_channel                   0\n",
      "first_order_date                     0\n",
      "last_order_date                      0\n",
      "last_order_date_online               0\n",
      "last_order_date_offline              0\n",
      "order_num_total_ever_online          0\n",
      "order_num_total_ever_offline         0\n",
      "customer_value_total_ever_offline    0\n",
      "customer_value_total_ever_online     0\n",
      "interested_in_categories_12          0\n",
      "dtype: int64\n",
      "##################### Quantiles #####################\n",
      "                                   0.000   0.250   0.500   0.750    0.990  \\\n",
      "order_num_total_ever_online        1.000   1.000   2.000   4.000   20.000   \n",
      "order_num_total_ever_offline       1.000   1.000   1.000   2.000    7.000   \n",
      "customer_value_total_ever_offline 10.000  99.990 179.980 319.970 1219.947   \n",
      "customer_value_total_ever_online  12.990 149.980 286.460 578.440 3143.810   \n",
      "\n",
      "                                      1.000  \n",
      "order_num_total_ever_online         200.000  \n",
      "order_num_total_ever_offline        109.000  \n",
      "customer_value_total_ever_offline 18119.140  \n",
      "customer_value_total_ever_online  45220.130  \n",
      "                                      count    mean     std    min     25%  \\\n",
      "order_num_total_ever_online       19945.000   3.111   4.226  1.000   1.000   \n",
      "order_num_total_ever_offline      19945.000   1.914   2.063  1.000   1.000   \n",
      "customer_value_total_ever_offline 19945.000 253.923 301.533 10.000  99.990   \n",
      "customer_value_total_ever_online  19945.000 497.322 832.602 12.990 149.980   \n",
      "\n",
      "                                      50%     75%       max  \n",
      "order_num_total_ever_online         2.000   4.000   200.000  \n",
      "order_num_total_ever_offline        1.000   2.000   109.000  \n",
      "customer_value_total_ever_offline 179.980 319.970 18119.140  \n",
      "customer_value_total_ever_online  286.460 578.440 45220.130  \n"
     ]
    }
   ],
   "source": [
    "def check_df(dataframe, head=5):\n",
    "    print(\"##################### Shape #####################\")\n",
    "    print(dataframe.shape)\n",
    "\n",
    "    print(\"##################### Types #####################\")\n",
    "    print(dataframe.dtypes)\n",
    "\n",
    "    print(\"##################### Head #####################\")\n",
    "    print(dataframe.head(head))\n",
    "\n",
    "    print(\"##################### Tail #####################\")\n",
    "    print(dataframe.tail(head))\n",
    "\n",
    "    print(\"##################### is null? #####################\")\n",
    "    print(dataframe.isnull().sum())\n",
    "\n",
    "    print(\"##################### Quantiles #####################\")\n",
    "    print(dataframe.quantile([0, 0.25, 0.50, 0.75, 0.99, 1]).T)\n",
    "    print(dataframe.describe().T)\n",
    "\n",
    "\n",
    "check_df(df)"
   ]
  },
  {
   "cell_type": "markdown",
   "id": "8431f5df-eb6d-41d3-b93d-eb12c3dd7a3d",
   "metadata": {},
   "source": [
    "# Omnichannel means that customers shop from both online and offline platforms. Create new variables for each customer's total purchases and spending."
   ]
  },
  {
   "cell_type": "code",
   "execution_count": 12,
   "id": "f411aeb2-39b0-48e9-aabc-5bb8fedbe07e",
   "metadata": {},
   "outputs": [
    {
     "data": {
      "text/plain": [
       "0        5.000\n",
       "1       21.000\n",
       "2        5.000\n",
       "3        2.000\n",
       "4        2.000\n",
       "         ...  \n",
       "19940    3.000\n",
       "19941    2.000\n",
       "19942    3.000\n",
       "19943    6.000\n",
       "19944    2.000\n",
       "Name: total_order_purchases, Length: 19945, dtype: float64"
      ]
     },
     "execution_count": 12,
     "metadata": {},
     "output_type": "execute_result"
    }
   ],
   "source": [
    "df[\"total_order_purchases\"] = df[\"order_num_total_ever_offline\"] + df[\"order_num_total_ever_online\"] \n",
    "df[\"total_order_purchases\"]"
   ]
  },
  {
   "cell_type": "code",
   "execution_count": 13,
   "id": "bb55075c-3730-4497-8ade-6c1d7a139527",
   "metadata": {},
   "outputs": [
    {
     "data": {
      "text/plain": [
       "0        939.370\n",
       "1       2013.550\n",
       "2        585.320\n",
       "3        121.970\n",
       "4        209.980\n",
       "          ...   \n",
       "19940    401.960\n",
       "19941    390.470\n",
       "19942    632.940\n",
       "19943   1009.770\n",
       "19944    261.970\n",
       "Name: total_order_expenditure, Length: 19945, dtype: float64"
      ]
     },
     "execution_count": 13,
     "metadata": {},
     "output_type": "execute_result"
    }
   ],
   "source": [
    "df[\"total_order_expenditure\"] = df[\"customer_value_total_ever_offline\"] + df[\"customer_value_total_ever_online\"]\n",
    "df[\"total_order_expenditure\"]"
   ]
  },
  {
   "cell_type": "markdown",
   "id": "4b70be4d-f44a-4760-bb0c-c76977060a10",
   "metadata": {},
   "source": [
    "# Examine the variable types. Change the type of variables that express date to date."
   ]
  },
  {
   "cell_type": "code",
   "execution_count": 14,
   "id": "cc909883-4a08-47f4-bb97-f54bfd8360f2",
   "metadata": {},
   "outputs": [],
   "source": [
    "dates = [\"first_order_date\", \"last_order_date\", \"last_order_date_online\", \"last_order_date_offline\"]"
   ]
  },
  {
   "cell_type": "code",
   "execution_count": 15,
   "id": "5f57dfd1-9703-4c2a-8d02-f061aa11bb8a",
   "metadata": {},
   "outputs": [],
   "source": [
    "df[dates] = df[dates].apply(pd.to_datetime)"
   ]
  },
  {
   "cell_type": "code",
   "execution_count": 16,
   "id": "59f190bd-81fa-4aec-977b-f782eeb76d29",
   "metadata": {},
   "outputs": [
    {
     "name": "stdout",
     "output_type": "stream",
     "text": [
      "<class 'pandas.core.frame.DataFrame'>\n",
      "RangeIndex: 19945 entries, 0 to 19944\n",
      "Data columns (total 14 columns):\n",
      " #   Column                             Non-Null Count  Dtype         \n",
      "---  ------                             --------------  -----         \n",
      " 0   master_id                          19945 non-null  object        \n",
      " 1   order_channel                      19945 non-null  object        \n",
      " 2   last_order_channel                 19945 non-null  object        \n",
      " 3   first_order_date                   19945 non-null  datetime64[ns]\n",
      " 4   last_order_date                    19945 non-null  datetime64[ns]\n",
      " 5   last_order_date_online             19945 non-null  datetime64[ns]\n",
      " 6   last_order_date_offline            19945 non-null  datetime64[ns]\n",
      " 7   order_num_total_ever_online        19945 non-null  float64       \n",
      " 8   order_num_total_ever_offline       19945 non-null  float64       \n",
      " 9   customer_value_total_ever_offline  19945 non-null  float64       \n",
      " 10  customer_value_total_ever_online   19945 non-null  float64       \n",
      " 11  interested_in_categories_12        19945 non-null  object        \n",
      " 12  total_order_purchases              19945 non-null  float64       \n",
      " 13  total_order_expenditure            19945 non-null  float64       \n",
      "dtypes: datetime64[ns](4), float64(6), object(4)\n",
      "memory usage: 2.1+ MB\n"
     ]
    }
   ],
   "source": [
    "df.info()"
   ]
  },
  {
   "cell_type": "markdown",
   "id": "1165e4cf-1880-4a5c-aa76-af60125220a3",
   "metadata": {},
   "source": [
    "# See the distribution of the number of customers in the shopping channels, the total number of products purchased and total expenditures"
   ]
  },
  {
   "cell_type": "code",
   "execution_count": 17,
   "id": "0f94f883-6053-490b-b4e8-7f4385704ce2",
   "metadata": {},
   "outputs": [
    {
     "data": {
      "text/html": [
       "<div>\n",
       "<style scoped>\n",
       "    .dataframe tbody tr th:only-of-type {\n",
       "        vertical-align: middle;\n",
       "    }\n",
       "\n",
       "    .dataframe tbody tr th {\n",
       "        vertical-align: top;\n",
       "    }\n",
       "\n",
       "    .dataframe thead th {\n",
       "        text-align: right;\n",
       "    }\n",
       "</style>\n",
       "<table border=\"1\" class=\"dataframe\">\n",
       "  <thead>\n",
       "    <tr style=\"text-align: right;\">\n",
       "      <th></th>\n",
       "      <th>total_order_purchases</th>\n",
       "      <th>total_order_expenditure</th>\n",
       "    </tr>\n",
       "    <tr>\n",
       "      <th>order_channel</th>\n",
       "      <th></th>\n",
       "      <th></th>\n",
       "    </tr>\n",
       "  </thead>\n",
       "  <tbody>\n",
       "    <tr>\n",
       "      <th>Android App</th>\n",
       "      <td>52269.000</td>\n",
       "      <td>7819062.760</td>\n",
       "    </tr>\n",
       "    <tr>\n",
       "      <th>Desktop</th>\n",
       "      <td>10920.000</td>\n",
       "      <td>1610321.460</td>\n",
       "    </tr>\n",
       "    <tr>\n",
       "      <th>Ios App</th>\n",
       "      <td>15351.000</td>\n",
       "      <td>2525999.930</td>\n",
       "    </tr>\n",
       "    <tr>\n",
       "      <th>Mobile</th>\n",
       "      <td>21679.000</td>\n",
       "      <td>3028183.160</td>\n",
       "    </tr>\n",
       "  </tbody>\n",
       "</table>\n",
       "</div>"
      ],
      "text/plain": [
       "               total_order_purchases  total_order_expenditure\n",
       "order_channel                                                \n",
       "Android App                52269.000              7819062.760\n",
       "Desktop                    10920.000              1610321.460\n",
       "Ios App                    15351.000              2525999.930\n",
       "Mobile                     21679.000              3028183.160"
      ]
     },
     "execution_count": 17,
     "metadata": {},
     "output_type": "execute_result"
    }
   ],
   "source": [
    "df.groupby(\"order_channel\").agg({\"total_order_purchases\": \"sum\",\n",
    "                                \"total_order_expenditure\": \"sum\"})"
   ]
  },
  {
   "cell_type": "markdown",
   "id": "1747a248-1720-482e-b29e-71a1b013be46",
   "metadata": {},
   "source": [
    "# Rank the top 10 customers with the highest revenue"
   ]
  },
  {
   "cell_type": "code",
   "execution_count": 18,
   "id": "13794470-303d-4619-bb99-0c5b4b515861",
   "metadata": {},
   "outputs": [
    {
     "data": {
      "text/html": [
       "<div>\n",
       "<style scoped>\n",
       "    .dataframe tbody tr th:only-of-type {\n",
       "        vertical-align: middle;\n",
       "    }\n",
       "\n",
       "    .dataframe tbody tr th {\n",
       "        vertical-align: top;\n",
       "    }\n",
       "\n",
       "    .dataframe thead th {\n",
       "        text-align: right;\n",
       "    }\n",
       "</style>\n",
       "<table border=\"1\" class=\"dataframe\">\n",
       "  <thead>\n",
       "    <tr style=\"text-align: right;\">\n",
       "      <th></th>\n",
       "      <th>total_order_expenditure</th>\n",
       "    </tr>\n",
       "    <tr>\n",
       "      <th>master_id</th>\n",
       "      <th></th>\n",
       "    </tr>\n",
       "  </thead>\n",
       "  <tbody>\n",
       "    <tr>\n",
       "      <th>5d1c466a-9cfd-11e9-9897-000d3a38a36f</th>\n",
       "      <td>45905.100</td>\n",
       "    </tr>\n",
       "    <tr>\n",
       "      <th>d5ef8058-a5c6-11e9-a2fc-000d3a38a36f</th>\n",
       "      <td>36818.290</td>\n",
       "    </tr>\n",
       "    <tr>\n",
       "      <th>73fd19aa-9e37-11e9-9897-000d3a38a36f</th>\n",
       "      <td>33918.100</td>\n",
       "    </tr>\n",
       "    <tr>\n",
       "      <th>7137a5c0-7aad-11ea-8f20-000d3a38a36f</th>\n",
       "      <td>31227.410</td>\n",
       "    </tr>\n",
       "    <tr>\n",
       "      <th>47a642fe-975b-11eb-8c2a-000d3a38a36f</th>\n",
       "      <td>20706.340</td>\n",
       "    </tr>\n",
       "  </tbody>\n",
       "</table>\n",
       "</div>"
      ],
      "text/plain": [
       "                                      total_order_expenditure\n",
       "master_id                                                    \n",
       "5d1c466a-9cfd-11e9-9897-000d3a38a36f                45905.100\n",
       "d5ef8058-a5c6-11e9-a2fc-000d3a38a36f                36818.290\n",
       "73fd19aa-9e37-11e9-9897-000d3a38a36f                33918.100\n",
       "7137a5c0-7aad-11ea-8f20-000d3a38a36f                31227.410\n",
       "47a642fe-975b-11eb-8c2a-000d3a38a36f                20706.340"
      ]
     },
     "execution_count": 18,
     "metadata": {},
     "output_type": "execute_result"
    }
   ],
   "source": [
    "df.groupby(\"master_id\").agg({\"total_order_expenditure\": \"sum\"}).sort_values(by=\"total_order_expenditure\", ascending=False).head()"
   ]
  },
  {
   "cell_type": "markdown",
   "id": "43d67cc3-8c9b-43c2-8909-30ab06dc2aa3",
   "metadata": {},
   "source": [
    "# List the top 10 customers with the most orders."
   ]
  },
  {
   "cell_type": "code",
   "execution_count": 19,
   "id": "81f703e4-6c72-4d86-8c4d-fd6c893bb2e5",
   "metadata": {},
   "outputs": [
    {
     "data": {
      "text/html": [
       "<div>\n",
       "<style scoped>\n",
       "    .dataframe tbody tr th:only-of-type {\n",
       "        vertical-align: middle;\n",
       "    }\n",
       "\n",
       "    .dataframe tbody tr th {\n",
       "        vertical-align: top;\n",
       "    }\n",
       "\n",
       "    .dataframe thead th {\n",
       "        text-align: right;\n",
       "    }\n",
       "</style>\n",
       "<table border=\"1\" class=\"dataframe\">\n",
       "  <thead>\n",
       "    <tr style=\"text-align: right;\">\n",
       "      <th></th>\n",
       "      <th>total_order_purchases</th>\n",
       "    </tr>\n",
       "    <tr>\n",
       "      <th>master_id</th>\n",
       "      <th></th>\n",
       "    </tr>\n",
       "  </thead>\n",
       "  <tbody>\n",
       "    <tr>\n",
       "      <th>5d1c466a-9cfd-11e9-9897-000d3a38a36f</th>\n",
       "      <td>202.000</td>\n",
       "    </tr>\n",
       "    <tr>\n",
       "      <th>cba59206-9dd1-11e9-9897-000d3a38a36f</th>\n",
       "      <td>131.000</td>\n",
       "    </tr>\n",
       "    <tr>\n",
       "      <th>a57f4302-b1a8-11e9-89fa-000d3a38a36f</th>\n",
       "      <td>111.000</td>\n",
       "    </tr>\n",
       "    <tr>\n",
       "      <th>fdbe8304-a7ab-11e9-a2fc-000d3a38a36f</th>\n",
       "      <td>88.000</td>\n",
       "    </tr>\n",
       "    <tr>\n",
       "      <th>329968c6-a0e2-11e9-a2fc-000d3a38a36f</th>\n",
       "      <td>83.000</td>\n",
       "    </tr>\n",
       "  </tbody>\n",
       "</table>\n",
       "</div>"
      ],
      "text/plain": [
       "                                      total_order_purchases\n",
       "master_id                                                  \n",
       "5d1c466a-9cfd-11e9-9897-000d3a38a36f                202.000\n",
       "cba59206-9dd1-11e9-9897-000d3a38a36f                131.000\n",
       "a57f4302-b1a8-11e9-89fa-000d3a38a36f                111.000\n",
       "fdbe8304-a7ab-11e9-a2fc-000d3a38a36f                 88.000\n",
       "329968c6-a0e2-11e9-a2fc-000d3a38a36f                 83.000"
      ]
     },
     "execution_count": 19,
     "metadata": {},
     "output_type": "execute_result"
    }
   ],
   "source": [
    "df.groupby(\"master_id\").agg({\"total_order_purchases\": \"sum\"}).sort_values(by=\"total_order_purchases\", ascending=False).head()"
   ]
  },
  {
   "cell_type": "markdown",
   "id": "7a450e77-f581-4c9c-9821-e0a804f6907e",
   "metadata": {},
   "source": [
    "# Functionalize the data preparation process"
   ]
  },
  {
   "cell_type": "code",
   "execution_count": 20,
   "id": "964437b7-1641-4308-a0c6-9e41176188b1",
   "metadata": {},
   "outputs": [],
   "source": [
    "def create_rfm(dataframe, csv=False):\n",
    "    #VERIYI HAZIRLAMA\n",
    "    import pandas as pd\n",
    "    import datetime as dt\n",
    "    pd.set_option('display.max_columns', None)\n",
    "    # pd.set_option('display.max_rows', None)\n",
    "    pd.set_option('display.float_format', lambda x: '%.3f' % x)\n",
    "    df_ = pd.read_csv(\"flo_data_20k.csv\")\n",
    "    df = df_.copy()\n",
    "    df.head(10)\n",
    "    df.shape\n",
    "    df.columns\n",
    "    df.describe().T\n",
    "    df.isnull().sum()\n",
    "    df.dtypes\n",
    "    \n",
    "    #VERI ICERISINDE HARCAMA VE ALISVERIS SAYISI HESAPLAMALARI\n",
    "    df[\"total_order_purchases\"] = df[\"order_num_total_ever_offline\"] + df[\"order_num_total_ever_online\"] \n",
    "    df[\"total_order_purchases\"]\n",
    "    df[\"total_order_expenditure\"] = df[\"customer_value_total_ever_offline\"] + df[\"customer_value_total_ever_online\"]\n",
    "    df[\"total_order_expenditure\"]\n",
    "    \n",
    "    #DEGISKEN TIPLERININ DEGISTIRILMESI\n",
    "    dates = [\"first_order_date\", \"last_order_date\", \"last_order_date_online\", \"last_order_date_offline\"]\n",
    "    df[dates] = df[dates].apply(pd.to_datetime)\n",
    "    df.info()\n",
    "    \n",
    "    #ALISVERIS SAYISI VE SATIS HESAPLAMALARI\n",
    "    df.groupby(\"order_channel\").agg({\"total_order_purchases\": \"sum\",\n",
    "                                \"total_order_expenditure\": \"sum\"})\n",
    "    df.groupby(\"master_id\").agg({\"total_order_expenditure\": \"sum\"}).sort_values(by=\"total_order_expenditure\", ascending=False).head()\n",
    "    df.groupby(\"master_id\").agg({\"total_order_purchases\": \"sum\"}).sort_values(by=\"total_order_purchases\", ascending=False).head()\n",
    "    \n",
    "    if csv:\n",
    "        flo_rfm.to_csv(\"flo_rfm.csv\")\n",
    "\n",
    "    return flo_rfm"
   ]
  },
  {
   "cell_type": "markdown",
   "id": "aa9e9385-9c7b-421a-8ffe-41392b9efdb4",
   "metadata": {},
   "source": [
    "# Task 2: Calculating RFM Metrics\n",
    "\n",
    "## Step 1: Make the definitions of Recency, Frequency and Monetary.\n",
    "## Step 2: Calculate the Recency, Frequency and Monetary metrics for the customer.\n",
    "## Step 3: Assign your calculated metrics to a variable named rfm.\n",
    "## Step 4: Change the names of the metrics you created to recency, frequency and monetary"
   ]
  },
  {
   "cell_type": "code",
   "execution_count": 21,
   "id": "929abe76-d837-4f6d-b44b-88f6ccf021ed",
   "metadata": {},
   "outputs": [
    {
     "data": {
      "text/html": [
       "<div>\n",
       "<style scoped>\n",
       "    .dataframe tbody tr th:only-of-type {\n",
       "        vertical-align: middle;\n",
       "    }\n",
       "\n",
       "    .dataframe tbody tr th {\n",
       "        vertical-align: top;\n",
       "    }\n",
       "\n",
       "    .dataframe thead th {\n",
       "        text-align: right;\n",
       "    }\n",
       "</style>\n",
       "<table border=\"1\" class=\"dataframe\">\n",
       "  <thead>\n",
       "    <tr style=\"text-align: right;\">\n",
       "      <th></th>\n",
       "      <th>master_id</th>\n",
       "      <th>order_channel</th>\n",
       "      <th>last_order_channel</th>\n",
       "      <th>first_order_date</th>\n",
       "      <th>last_order_date</th>\n",
       "      <th>last_order_date_online</th>\n",
       "      <th>last_order_date_offline</th>\n",
       "      <th>order_num_total_ever_online</th>\n",
       "      <th>order_num_total_ever_offline</th>\n",
       "      <th>customer_value_total_ever_offline</th>\n",
       "      <th>customer_value_total_ever_online</th>\n",
       "      <th>interested_in_categories_12</th>\n",
       "      <th>total_order_purchases</th>\n",
       "      <th>total_order_expenditure</th>\n",
       "    </tr>\n",
       "  </thead>\n",
       "  <tbody>\n",
       "    <tr>\n",
       "      <th>0</th>\n",
       "      <td>cc294636-19f0-11eb-8d74-000d3a38a36f</td>\n",
       "      <td>Android App</td>\n",
       "      <td>Offline</td>\n",
       "      <td>2020-10-30</td>\n",
       "      <td>2021-02-26</td>\n",
       "      <td>2021-02-21</td>\n",
       "      <td>2021-02-26</td>\n",
       "      <td>4.000</td>\n",
       "      <td>1.000</td>\n",
       "      <td>139.990</td>\n",
       "      <td>799.380</td>\n",
       "      <td>[KADIN]</td>\n",
       "      <td>5.000</td>\n",
       "      <td>939.370</td>\n",
       "    </tr>\n",
       "    <tr>\n",
       "      <th>1</th>\n",
       "      <td>f431bd5a-ab7b-11e9-a2fc-000d3a38a36f</td>\n",
       "      <td>Android App</td>\n",
       "      <td>Mobile</td>\n",
       "      <td>2017-02-08</td>\n",
       "      <td>2021-02-16</td>\n",
       "      <td>2021-02-16</td>\n",
       "      <td>2020-01-10</td>\n",
       "      <td>19.000</td>\n",
       "      <td>2.000</td>\n",
       "      <td>159.970</td>\n",
       "      <td>1853.580</td>\n",
       "      <td>[ERKEK, COCUK, KADIN, AKTIFSPOR]</td>\n",
       "      <td>21.000</td>\n",
       "      <td>2013.550</td>\n",
       "    </tr>\n",
       "    <tr>\n",
       "      <th>2</th>\n",
       "      <td>69b69676-1a40-11ea-941b-000d3a38a36f</td>\n",
       "      <td>Android App</td>\n",
       "      <td>Android App</td>\n",
       "      <td>2019-11-27</td>\n",
       "      <td>2020-11-27</td>\n",
       "      <td>2020-11-27</td>\n",
       "      <td>2019-12-01</td>\n",
       "      <td>3.000</td>\n",
       "      <td>2.000</td>\n",
       "      <td>189.970</td>\n",
       "      <td>395.350</td>\n",
       "      <td>[ERKEK, KADIN]</td>\n",
       "      <td>5.000</td>\n",
       "      <td>585.320</td>\n",
       "    </tr>\n",
       "    <tr>\n",
       "      <th>3</th>\n",
       "      <td>1854e56c-491f-11eb-806e-000d3a38a36f</td>\n",
       "      <td>Android App</td>\n",
       "      <td>Android App</td>\n",
       "      <td>2021-01-06</td>\n",
       "      <td>2021-01-17</td>\n",
       "      <td>2021-01-17</td>\n",
       "      <td>2021-01-06</td>\n",
       "      <td>1.000</td>\n",
       "      <td>1.000</td>\n",
       "      <td>39.990</td>\n",
       "      <td>81.980</td>\n",
       "      <td>[AKTIFCOCUK, COCUK]</td>\n",
       "      <td>2.000</td>\n",
       "      <td>121.970</td>\n",
       "    </tr>\n",
       "    <tr>\n",
       "      <th>4</th>\n",
       "      <td>d6ea1074-f1f5-11e9-9346-000d3a38a36f</td>\n",
       "      <td>Desktop</td>\n",
       "      <td>Desktop</td>\n",
       "      <td>2019-08-03</td>\n",
       "      <td>2021-03-07</td>\n",
       "      <td>2021-03-07</td>\n",
       "      <td>2019-08-03</td>\n",
       "      <td>1.000</td>\n",
       "      <td>1.000</td>\n",
       "      <td>49.990</td>\n",
       "      <td>159.990</td>\n",
       "      <td>[AKTIFSPOR]</td>\n",
       "      <td>2.000</td>\n",
       "      <td>209.980</td>\n",
       "    </tr>\n",
       "  </tbody>\n",
       "</table>\n",
       "</div>"
      ],
      "text/plain": [
       "                              master_id order_channel last_order_channel  \\\n",
       "0  cc294636-19f0-11eb-8d74-000d3a38a36f   Android App            Offline   \n",
       "1  f431bd5a-ab7b-11e9-a2fc-000d3a38a36f   Android App             Mobile   \n",
       "2  69b69676-1a40-11ea-941b-000d3a38a36f   Android App        Android App   \n",
       "3  1854e56c-491f-11eb-806e-000d3a38a36f   Android App        Android App   \n",
       "4  d6ea1074-f1f5-11e9-9346-000d3a38a36f       Desktop            Desktop   \n",
       "\n",
       "  first_order_date last_order_date last_order_date_online  \\\n",
       "0       2020-10-30      2021-02-26             2021-02-21   \n",
       "1       2017-02-08      2021-02-16             2021-02-16   \n",
       "2       2019-11-27      2020-11-27             2020-11-27   \n",
       "3       2021-01-06      2021-01-17             2021-01-17   \n",
       "4       2019-08-03      2021-03-07             2021-03-07   \n",
       "\n",
       "  last_order_date_offline  order_num_total_ever_online  \\\n",
       "0              2021-02-26                        4.000   \n",
       "1              2020-01-10                       19.000   \n",
       "2              2019-12-01                        3.000   \n",
       "3              2021-01-06                        1.000   \n",
       "4              2019-08-03                        1.000   \n",
       "\n",
       "   order_num_total_ever_offline  customer_value_total_ever_offline  \\\n",
       "0                         1.000                            139.990   \n",
       "1                         2.000                            159.970   \n",
       "2                         2.000                            189.970   \n",
       "3                         1.000                             39.990   \n",
       "4                         1.000                             49.990   \n",
       "\n",
       "   customer_value_total_ever_online       interested_in_categories_12  \\\n",
       "0                           799.380                           [KADIN]   \n",
       "1                          1853.580  [ERKEK, COCUK, KADIN, AKTIFSPOR]   \n",
       "2                           395.350                    [ERKEK, KADIN]   \n",
       "3                            81.980               [AKTIFCOCUK, COCUK]   \n",
       "4                           159.990                       [AKTIFSPOR]   \n",
       "\n",
       "   total_order_purchases  total_order_expenditure  \n",
       "0                  5.000                  939.370  \n",
       "1                 21.000                 2013.550  \n",
       "2                  5.000                  585.320  \n",
       "3                  2.000                  121.970  \n",
       "4                  2.000                  209.980  "
      ]
     },
     "execution_count": 21,
     "metadata": {},
     "output_type": "execute_result"
    }
   ],
   "source": [
    "df.head()"
   ]
  },
  {
   "cell_type": "code",
   "execution_count": 22,
   "id": "eda41c5c-35f0-4cf6-bfff-7297315382c5",
   "metadata": {},
   "outputs": [
    {
     "data": {
      "text/plain": [
       "Timestamp('2021-05-30 00:00:00')"
      ]
     },
     "execution_count": 22,
     "metadata": {},
     "output_type": "execute_result"
    }
   ],
   "source": [
    "df[\"last_order_date\"].max()"
   ]
  },
  {
   "cell_type": "code",
   "execution_count": 23,
   "id": "de041366-e8aa-4a97-841f-f215458ba661",
   "metadata": {},
   "outputs": [],
   "source": [
    "today_date = dt.datetime(2021, 6, 2)"
   ]
  },
  {
   "cell_type": "code",
   "execution_count": 24,
   "id": "bf80df4c-a478-4e89-8287-7c07c0535f67",
   "metadata": {},
   "outputs": [
    {
     "data": {
      "text/plain": [
       "datetime.datetime"
      ]
     },
     "execution_count": 24,
     "metadata": {},
     "output_type": "execute_result"
    }
   ],
   "source": [
    "type(today_date)"
   ]
  },
  {
   "cell_type": "code",
   "execution_count": 25,
   "id": "f2bd0381-86ab-45e6-889f-e40ee0dfbf3f",
   "metadata": {},
   "outputs": [],
   "source": [
    "rfm = df.groupby(\"master_id\").agg({\"last_order_date\": lambda last_order_date: (today_date - last_order_date.max()).days,\n",
    "                                   \"total_order_purchases\": lambda total_order_purchases: total_order_purchases.nunique(),\n",
    "                                   \"total_order_expenditure\": lambda total_order_expenditure: total_order_expenditure.sum()})"
   ]
  },
  {
   "cell_type": "code",
   "execution_count": 26,
   "id": "313034ca-76e7-4ccb-908e-27eeedbd7145",
   "metadata": {},
   "outputs": [
    {
     "data": {
      "text/html": [
       "<div>\n",
       "<style scoped>\n",
       "    .dataframe tbody tr th:only-of-type {\n",
       "        vertical-align: middle;\n",
       "    }\n",
       "\n",
       "    .dataframe tbody tr th {\n",
       "        vertical-align: top;\n",
       "    }\n",
       "\n",
       "    .dataframe thead th {\n",
       "        text-align: right;\n",
       "    }\n",
       "</style>\n",
       "<table border=\"1\" class=\"dataframe\">\n",
       "  <thead>\n",
       "    <tr style=\"text-align: right;\">\n",
       "      <th></th>\n",
       "      <th>last_order_date</th>\n",
       "      <th>total_order_purchases</th>\n",
       "      <th>total_order_expenditure</th>\n",
       "    </tr>\n",
       "    <tr>\n",
       "      <th>master_id</th>\n",
       "      <th></th>\n",
       "      <th></th>\n",
       "      <th></th>\n",
       "    </tr>\n",
       "  </thead>\n",
       "  <tbody>\n",
       "    <tr>\n",
       "      <th>00016786-2f5a-11ea-bb80-000d3a38a36f</th>\n",
       "      <td>11</td>\n",
       "      <td>1.000</td>\n",
       "      <td>776.070</td>\n",
       "    </tr>\n",
       "    <tr>\n",
       "      <th>00034aaa-a838-11e9-a2fc-000d3a38a36f</th>\n",
       "      <td>299</td>\n",
       "      <td>1.000</td>\n",
       "      <td>269.470</td>\n",
       "    </tr>\n",
       "    <tr>\n",
       "      <th>000be838-85df-11ea-a90b-000d3a38a36f</th>\n",
       "      <td>214</td>\n",
       "      <td>1.000</td>\n",
       "      <td>722.690</td>\n",
       "    </tr>\n",
       "    <tr>\n",
       "      <th>000c1fe2-a8b7-11ea-8479-000d3a38a36f</th>\n",
       "      <td>28</td>\n",
       "      <td>1.000</td>\n",
       "      <td>874.160</td>\n",
       "    </tr>\n",
       "    <tr>\n",
       "      <th>000f5e3e-9dde-11ea-80cd-000d3a38a36f</th>\n",
       "      <td>21</td>\n",
       "      <td>1.000</td>\n",
       "      <td>1620.330</td>\n",
       "    </tr>\n",
       "  </tbody>\n",
       "</table>\n",
       "</div>"
      ],
      "text/plain": [
       "                                      last_order_date  total_order_purchases  \\\n",
       "master_id                                                                      \n",
       "00016786-2f5a-11ea-bb80-000d3a38a36f               11                  1.000   \n",
       "00034aaa-a838-11e9-a2fc-000d3a38a36f              299                  1.000   \n",
       "000be838-85df-11ea-a90b-000d3a38a36f              214                  1.000   \n",
       "000c1fe2-a8b7-11ea-8479-000d3a38a36f               28                  1.000   \n",
       "000f5e3e-9dde-11ea-80cd-000d3a38a36f               21                  1.000   \n",
       "\n",
       "                                      total_order_expenditure  \n",
       "master_id                                                      \n",
       "00016786-2f5a-11ea-bb80-000d3a38a36f                  776.070  \n",
       "00034aaa-a838-11e9-a2fc-000d3a38a36f                  269.470  \n",
       "000be838-85df-11ea-a90b-000d3a38a36f                  722.690  \n",
       "000c1fe2-a8b7-11ea-8479-000d3a38a36f                  874.160  \n",
       "000f5e3e-9dde-11ea-80cd-000d3a38a36f                 1620.330  "
      ]
     },
     "execution_count": 26,
     "metadata": {},
     "output_type": "execute_result"
    }
   ],
   "source": [
    "rfm.head()"
   ]
  },
  {
   "cell_type": "code",
   "execution_count": 27,
   "id": "4adc43ba-9733-4f76-8cc6-cd7de8f49e9a",
   "metadata": {},
   "outputs": [],
   "source": [
    "rfm.columns = ['recency', 'frequency', 'monetary']"
   ]
  },
  {
   "cell_type": "code",
   "execution_count": 28,
   "id": "a3cc1286-9e45-4146-a8ba-76d16012844f",
   "metadata": {},
   "outputs": [
    {
     "data": {
      "text/html": [
       "<div>\n",
       "<style scoped>\n",
       "    .dataframe tbody tr th:only-of-type {\n",
       "        vertical-align: middle;\n",
       "    }\n",
       "\n",
       "    .dataframe tbody tr th {\n",
       "        vertical-align: top;\n",
       "    }\n",
       "\n",
       "    .dataframe thead th {\n",
       "        text-align: right;\n",
       "    }\n",
       "</style>\n",
       "<table border=\"1\" class=\"dataframe\">\n",
       "  <thead>\n",
       "    <tr style=\"text-align: right;\">\n",
       "      <th></th>\n",
       "      <th>count</th>\n",
       "      <th>mean</th>\n",
       "      <th>std</th>\n",
       "      <th>min</th>\n",
       "      <th>25%</th>\n",
       "      <th>50%</th>\n",
       "      <th>75%</th>\n",
       "      <th>max</th>\n",
       "    </tr>\n",
       "  </thead>\n",
       "  <tbody>\n",
       "    <tr>\n",
       "      <th>recency</th>\n",
       "      <td>19945.000</td>\n",
       "      <td>135.458</td>\n",
       "      <td>103.281</td>\n",
       "      <td>3.000</td>\n",
       "      <td>44.000</td>\n",
       "      <td>112.000</td>\n",
       "      <td>203.000</td>\n",
       "      <td>368.000</td>\n",
       "    </tr>\n",
       "    <tr>\n",
       "      <th>frequency</th>\n",
       "      <td>19945.000</td>\n",
       "      <td>1.000</td>\n",
       "      <td>0.000</td>\n",
       "      <td>1.000</td>\n",
       "      <td>1.000</td>\n",
       "      <td>1.000</td>\n",
       "      <td>1.000</td>\n",
       "      <td>1.000</td>\n",
       "    </tr>\n",
       "    <tr>\n",
       "      <th>monetary</th>\n",
       "      <td>19945.000</td>\n",
       "      <td>751.244</td>\n",
       "      <td>895.402</td>\n",
       "      <td>44.980</td>\n",
       "      <td>339.980</td>\n",
       "      <td>545.270</td>\n",
       "      <td>897.780</td>\n",
       "      <td>45905.100</td>\n",
       "    </tr>\n",
       "  </tbody>\n",
       "</table>\n",
       "</div>"
      ],
      "text/plain": [
       "              count    mean     std    min     25%     50%     75%       max\n",
       "recency   19945.000 135.458 103.281  3.000  44.000 112.000 203.000   368.000\n",
       "frequency 19945.000   1.000   0.000  1.000   1.000   1.000   1.000     1.000\n",
       "monetary  19945.000 751.244 895.402 44.980 339.980 545.270 897.780 45905.100"
      ]
     },
     "execution_count": 28,
     "metadata": {},
     "output_type": "execute_result"
    }
   ],
   "source": [
    "rfm.describe().T"
   ]
  },
  {
   "cell_type": "code",
   "execution_count": 29,
   "id": "96cf9562-b243-4e88-8710-e3f5c280fc37",
   "metadata": {},
   "outputs": [],
   "source": [
    "rfm = rfm[rfm[\"monetary\"] > 0]"
   ]
  },
  {
   "cell_type": "code",
   "execution_count": 30,
   "id": "2c774300-9767-46eb-9d67-feaff357fcf6",
   "metadata": {},
   "outputs": [
    {
     "data": {
      "text/plain": [
       "(19945, 3)"
      ]
     },
     "execution_count": 30,
     "metadata": {},
     "output_type": "execute_result"
    }
   ],
   "source": [
    "rfm.shape"
   ]
  },
  {
   "cell_type": "code",
   "execution_count": 31,
   "id": "667a5637-0540-4ffd-b72b-12c49b95484a",
   "metadata": {},
   "outputs": [
    {
     "data": {
      "text/html": [
       "<div>\n",
       "<style scoped>\n",
       "    .dataframe tbody tr th:only-of-type {\n",
       "        vertical-align: middle;\n",
       "    }\n",
       "\n",
       "    .dataframe tbody tr th {\n",
       "        vertical-align: top;\n",
       "    }\n",
       "\n",
       "    .dataframe thead th {\n",
       "        text-align: right;\n",
       "    }\n",
       "</style>\n",
       "<table border=\"1\" class=\"dataframe\">\n",
       "  <thead>\n",
       "    <tr style=\"text-align: right;\">\n",
       "      <th></th>\n",
       "      <th>recency</th>\n",
       "      <th>frequency</th>\n",
       "      <th>monetary</th>\n",
       "    </tr>\n",
       "    <tr>\n",
       "      <th>master_id</th>\n",
       "      <th></th>\n",
       "      <th></th>\n",
       "      <th></th>\n",
       "    </tr>\n",
       "  </thead>\n",
       "  <tbody>\n",
       "    <tr>\n",
       "      <th>00016786-2f5a-11ea-bb80-000d3a38a36f</th>\n",
       "      <td>11</td>\n",
       "      <td>1.000</td>\n",
       "      <td>776.070</td>\n",
       "    </tr>\n",
       "    <tr>\n",
       "      <th>00034aaa-a838-11e9-a2fc-000d3a38a36f</th>\n",
       "      <td>299</td>\n",
       "      <td>1.000</td>\n",
       "      <td>269.470</td>\n",
       "    </tr>\n",
       "    <tr>\n",
       "      <th>000be838-85df-11ea-a90b-000d3a38a36f</th>\n",
       "      <td>214</td>\n",
       "      <td>1.000</td>\n",
       "      <td>722.690</td>\n",
       "    </tr>\n",
       "    <tr>\n",
       "      <th>000c1fe2-a8b7-11ea-8479-000d3a38a36f</th>\n",
       "      <td>28</td>\n",
       "      <td>1.000</td>\n",
       "      <td>874.160</td>\n",
       "    </tr>\n",
       "    <tr>\n",
       "      <th>000f5e3e-9dde-11ea-80cd-000d3a38a36f</th>\n",
       "      <td>21</td>\n",
       "      <td>1.000</td>\n",
       "      <td>1620.330</td>\n",
       "    </tr>\n",
       "  </tbody>\n",
       "</table>\n",
       "</div>"
      ],
      "text/plain": [
       "                                      recency  frequency  monetary\n",
       "master_id                                                         \n",
       "00016786-2f5a-11ea-bb80-000d3a38a36f       11      1.000   776.070\n",
       "00034aaa-a838-11e9-a2fc-000d3a38a36f      299      1.000   269.470\n",
       "000be838-85df-11ea-a90b-000d3a38a36f      214      1.000   722.690\n",
       "000c1fe2-a8b7-11ea-8479-000d3a38a36f       28      1.000   874.160\n",
       "000f5e3e-9dde-11ea-80cd-000d3a38a36f       21      1.000  1620.330"
      ]
     },
     "execution_count": 31,
     "metadata": {},
     "output_type": "execute_result"
    }
   ],
   "source": [
    "rfm.head()"
   ]
  },
  {
   "cell_type": "markdown",
   "source": [
    "## Task 3: Calculation of RF Score"
   ],
   "metadata": {
    "collapsed": false,
    "pycharm": {
     "name": "#%% md\n"
    }
   }
  },
  {
   "cell_type": "code",
   "execution_count": null,
   "outputs": [],
   "source": [
    "rfm[\"recency_score\"] = pd.qcut(rfm[\"recency\"], 5, labels=[5, 4, 3, 2, 1])"
   ],
   "metadata": {
    "collapsed": false,
    "pycharm": {
     "name": "#%%\n"
    }
   }
  },
  {
   "cell_type": "code",
   "execution_count": null,
   "outputs": [],
   "source": [
    "rfm[\"frequency_score\"] = pd.qcut(rfm[\"frequency\"].rank(method=\"first\"), 5, labels=[1, 2, 3, 4, 5])"
   ],
   "metadata": {
    "collapsed": false,
    "pycharm": {
     "name": "#%%\n"
    }
   }
  },
  {
   "cell_type": "code",
   "execution_count": null,
   "outputs": [],
   "source": [
    "rfm[\"monetary_score\"] = pd.qcut(rfm[\"monetary\"], 5, labels=[5, 4, 3, 2, 1])"
   ],
   "metadata": {
    "collapsed": false,
    "pycharm": {
     "name": "#%%\n"
    }
   }
  },
  {
   "cell_type": "code",
   "execution_count": null,
   "outputs": [],
   "source": [
    "rfm[\"RF_SCORE\"] = (rfm['recency_score'].astype(str) +\n",
    "                    rfm['frequency_score'].astype(str))"
   ],
   "metadata": {
    "collapsed": false,
    "pycharm": {
     "name": "#%%\n"
    }
   }
  },
  {
   "cell_type": "code",
   "execution_count": null,
   "outputs": [],
   "source": [
    "rfm.describe().T"
   ],
   "metadata": {
    "collapsed": false,
    "pycharm": {
     "name": "#%%\n"
    }
   }
  },
  {
   "cell_type": "markdown",
   "source": [
    "## Task 4: Segment Definition of RF Score"
   ],
   "metadata": {
    "collapsed": false,
    "pycharm": {
     "name": "#%% md\n"
    }
   }
  },
  {
   "cell_type": "code",
   "execution_count": null,
   "outputs": [],
   "source": [
    "seg_map = {\n",
    "    r'[1-2][1-2]': 'hibernating',\n",
    "    r'[1-2][3-4]': 'at_Risk',\n",
    "    r'[1-2]5': 'cant_loose',\n",
    "    r'3[1-2]': 'about_to_sleep',\n",
    "    r'33': 'need_attention',\n",
    "    r'[3-4][4-5]': 'loyal_customers',\n",
    "    r'41': 'promising',\n",
    "    r'51': 'new_customers',\n",
    "    r'[4-5][2-3]': 'potential_loyalists',\n",
    "    r'5[4-5]': 'champions'\n",
    "}"
   ],
   "metadata": {
    "collapsed": false,
    "pycharm": {
     "name": "#%%\n"
    }
   }
  },
  {
   "cell_type": "code",
   "execution_count": null,
   "outputs": [],
   "source": [
    "rfm['segment'] = rfm['RF_SCORE'].replace(seg_map, regex=True)"
   ],
   "metadata": {
    "collapsed": false,
    "pycharm": {
     "name": "#%%\n"
    }
   }
  },
  {
   "cell_type": "code",
   "execution_count": null,
   "outputs": [],
   "source": [
    "rfm[[\"segment\", \"recency\", \"frequency\", \"monetary\"]].groupby(\"segment\").agg([\"mean\"]).head(10)"
   ],
   "metadata": {
    "collapsed": false,
    "pycharm": {
     "name": "#%%\n"
    }
   }
  },
  {
   "cell_type": "markdown",
   "source": [
    "## Cases\n",
    "\n",
    "### Case 1: FLO incorporates a new women's shoe brand. The product prices of the included brand are above the general customer preferences. For this reason, it is desired to contact the customers in the profile that will be interested in the promotion of the brand and product sales. Those who shop from their loyal customers (champions, loyal_customers) and women category are the customers to be contacted specifically. Save the id numbers of these customers to the csv file"
   ],
   "metadata": {
    "collapsed": false,
    "pycharm": {
     "name": "#%% md\n"
    }
   }
  },
  {
   "cell_type": "code",
   "execution_count": null,
   "outputs": [],
   "source": [
    "segment_1 = rfm[(rfm[\"segment\"] == \"champions\") | (rfm[\"segment\"] == \"loyal_customers\")]"
   ],
   "metadata": {
    "collapsed": false,
    "pycharm": {
     "name": "#%%\n"
    }
   }
  },
  {
   "cell_type": "code",
   "execution_count": null,
   "outputs": [],
   "source": [
    "segment_1.shape"
   ],
   "metadata": {
    "collapsed": false,
    "pycharm": {
     "name": "#%%\n"
    }
   }
  },
  {
   "cell_type": "code",
   "execution_count": null,
   "outputs": [],
   "source": [
    "segment_2 = df[df[\"interested_in_categories_12\"].str.contains(\"KADIN\")]"
   ],
   "metadata": {
    "collapsed": false,
    "pycharm": {
     "name": "#%%\n"
    }
   }
  },
  {
   "cell_type": "code",
   "execution_count": null,
   "outputs": [],
   "source": [
    "segment_2.shape"
   ],
   "metadata": {
    "collapsed": false,
    "pycharm": {
     "name": "#%%\n"
    }
   }
  },
  {
   "cell_type": "code",
   "execution_count": null,
   "outputs": [],
   "source": [
    "cust_seg = pd.merge(segment_1, segment_2[[\"interested_in_categories_12\", \"master_id\"]], on=\"master_id\")\n",
    "cust_seg.head()"
   ],
   "metadata": {
    "collapsed": false,
    "pycharm": {
     "name": "#%%\n"
    }
   }
  },
  {
   "cell_type": "code",
   "execution_count": null,
   "outputs": [],
   "source": [
    "cust_seg.columns"
   ],
   "metadata": {
    "collapsed": false,
    "pycharm": {
     "name": "#%%\n"
    }
   }
  },
  {
   "cell_type": "code",
   "execution_count": null,
   "outputs": [],
   "source": [
    "cust_seg.to_csv(\"customer_segment_case1.csv\")"
   ],
   "metadata": {
    "collapsed": false,
    "pycharm": {
     "name": "#%%\n"
    }
   }
  },
  {
   "cell_type": "markdown",
   "source": [
    "## Case2: Nearly 40% discount is planned for Men's and Children's products. It is aimed to specifically target customers who are good customers in the past, but who have not shopped for a long time, who are interested in categories related to this discount, who should not be lost, those who are asleep and new customers. Save the ids of the customers in the appropriate profile to the csv file"
   ],
   "metadata": {
    "collapsed": false,
    "pycharm": {
     "name": "#%% md\n"
    }
   }
  },
  {
   "cell_type": "code",
   "execution_count": null,
   "outputs": [],
   "source": [
    "seg_1 = rfm[(rfm[\"segment\"] == \"about_to_sleep\") | (rfm[\"segment\"] == \"cant_loose\") | (rfm[\"segment\"] == \"new_customers\")]\n",
    "seg_1"
   ],
   "metadata": {
    "collapsed": false,
    "pycharm": {
     "name": "#%%\n"
    }
   }
  },
  {
   "cell_type": "code",
   "execution_count": null,
   "outputs": [],
   "source": [
    "seg_1.shape"
   ],
   "metadata": {
    "collapsed": false,
    "pycharm": {
     "name": "#%%\n"
    }
   }
  },
  {
   "cell_type": "code",
   "execution_count": null,
   "outputs": [],
   "source": [
    "seg_2 = df[df[\"interested_in_categories_12\"].str.contains(\"ÇOCUK | ERKEK\")]\n",
    "seg_2"
   ],
   "metadata": {
    "collapsed": false,
    "pycharm": {
     "name": "#%%\n"
    }
   }
  },
  {
   "cell_type": "code",
   "execution_count": null,
   "outputs": [],
   "source": [
    "seg_2.shape"
   ],
   "metadata": {
    "collapsed": false,
    "pycharm": {
     "name": "#%%\n"
    }
   }
  },
  {
   "cell_type": "code",
   "execution_count": null,
   "outputs": [],
   "source": [
    "cust_seg2 = pd.merge(seg_1, seg_2[[\"interested_in_categories_12\", \"master_id\"]], on=\"master_id\")\n",
    "cust_seg2.head()"
   ],
   "metadata": {
    "collapsed": false,
    "pycharm": {
     "name": "#%%\n"
    }
   }
  },
  {
   "cell_type": "code",
   "execution_count": null,
   "outputs": [],
   "source": [
    "cust_seg2.columns"
   ],
   "metadata": {
    "collapsed": false,
    "pycharm": {
     "name": "#%%\n"
    }
   }
  },
  {
   "cell_type": "code",
   "execution_count": null,
   "outputs": [],
   "source": [
    "cust_seg2.to_csv(\"customer_segment_case2.csv\")"
   ],
   "metadata": {
    "collapsed": false,
    "pycharm": {
     "name": "#%%\n"
    }
   }
  }
 ],
 "metadata": {
  "kernelspec": {
   "display_name": "Python 3",
   "language": "python",
   "name": "python3"
  },
  "language_info": {
   "codemirror_mode": {
    "name": "ipython",
    "version": 3
   },
   "file_extension": ".py",
   "mimetype": "text/x-python",
   "name": "python",
   "nbconvert_exporter": "python",
   "pygments_lexer": "ipython3",
   "version": "3.8.8"
  }
 },
 "nbformat": 4,
 "nbformat_minor": 5
}